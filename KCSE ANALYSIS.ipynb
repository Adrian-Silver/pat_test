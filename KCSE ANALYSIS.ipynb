{
 "cells": [
  {
   "cell_type": "code",
   "execution_count": 1,
   "id": "44c22f8f",
   "metadata": {},
   "outputs": [],
   "source": [
    "import pandas as pd\n",
    "import matplotlib.pyplot as plt\n",
    "\n",
    "ress = pd.read_csv(\"KCSE_2016.csv\", header=0, sep=\",\", skipinitialspace=True)\n",
    "alls = pd.read_csv(\"All_Cs.csv\", header=0, sep=\",\")\n",
    "fems = pd.read_csv(\"Fems.csv\", header=0, sep=\",\")\n",
    "quals = pd.read_csv(\"UniQual.csv\", header=0, sep=\",\")"
   ]
  },
  {
   "cell_type": "code",
   "execution_count": 2,
   "id": "2673577e",
   "metadata": {},
   "outputs": [
    {
     "name": "stdout",
     "output_type": "stream",
     "text": [
      "          Gender     A     A-     B+      B     B-     C+      C     C-  \\\n",
      "0   FEMALE(2016)    58   2685   6581  10204  13649  17238  22960  30979   \n",
      "1     MALE(2016)    83   1960   4394   7012  10096  14969  21832  30047   \n",
      "2      ALL(2016)   141   4645  10975  17216  23745  32207  44792  61026   \n",
      "3     MALE(2015)  2024   7952  13517  19826  25312  29556  33437  37482   \n",
      "4   FEMALE(2015)   661   4117   8410  13634  19269  25214  31476  36633   \n",
      "5      ALL(2015)  2685  12069  21927  33460  44581  54770  64913  74115   \n",
      "6     MALE(2006)   148    638   1195   1627   2108   2569   2984   3299   \n",
      "7   FEMALE(2006)    69    242    446    772   1234   1873   2554   3193   \n",
      "8      ALL(2006)   217    880   1641   2399   3342   4442   5538   6492   \n",
      "9     MALE(2007)   110    563   1159   1761   2268   2871   3314   3609   \n",
      "10  FEMALE(2007)    50    191    473    844   1339   2100   2865   3439   \n",
      "11     ALL(2007)   160    754   1632   2605   3607   4971   6179   7048   \n",
      "12    MALE(2008)   102    698   1413   1957   2469   2972   3463   3824   \n",
      "13  FEMALE(2008)    66    274    596    920   1417   2129   2946   3618   \n",
      "14     ALL(2008)   168    972   2009   2877   3886   5101   6409   7442   \n",
      "15    MALE(2009)   138    628   1436   2124   2783   3311   3824   4247   \n",
      "16  FEMALE(2009)    58    218    553    974   1572   2388   3216   3996   \n",
      "17     ALL(2009)   196    846   1989   3098   4355   5699   7040   8243   \n",
      "18    MALE(2010)   182    892   1787   2458   3094   3639   4168   4536   \n",
      "19  FEMALE(2010)    97    344    744   1219   1875   2722   3637   4389   \n",
      "20     ALL(2010)   279   1236   2531   3677   4969   6361   7805   8925   \n",
      "\n",
      "       D+       D      D-      E  \n",
      "0   41632   57487   77718  18007  \n",
      "1   39319   54648   72211  15322  \n",
      "2   80951  112135  149929  33399  \n",
      "3   40181   40442   25531   3127  \n",
      "4   38976   39113   23127   2223  \n",
      "5   79157   79555   48658   5350  \n",
      "6    3418    3291    2635    834  \n",
      "7    3519    3513    2909    897  \n",
      "8    6937    6804    5544   1731  \n",
      "9    3721    3493    2762    779  \n",
      "10   3817    3730    2924    790  \n",
      "11   7538    7223    5686   1569  \n",
      "12   3981    3942    3400   1379  \n",
      "13   4043    4150    3593   1376  \n",
      "14   8024    8092    6993   2755  \n",
      "15   4402    4336    3606   1257  \n",
      "16   4447    4514    3897   1326  \n",
      "17   8849    8850    7503   2583  \n",
      "18   4704    4561    3776   1306  \n",
      "19   4734    4769    4012   1304  \n",
      "20   9438    9330    7788   2610  \n"
     ]
    }
   ],
   "source": [
    "print(ress)"
   ]
  },
  {
   "cell_type": "code",
   "execution_count": 3,
   "id": "4435fbb1",
   "metadata": {},
   "outputs": [
    {
     "name": "stdout",
     "output_type": "stream",
     "text": [
      "<class 'pandas.core.frame.DataFrame'>\n",
      "RangeIndex: 21 entries, 0 to 20\n",
      "Data columns (total 13 columns):\n",
      " #   Column  Non-Null Count  Dtype \n",
      "---  ------  --------------  ----- \n",
      " 0   Gender  21 non-null     object\n",
      " 1   A       21 non-null     int64 \n",
      " 2   A-      21 non-null     int64 \n",
      " 3   B+      21 non-null     int64 \n",
      " 4   B       21 non-null     int64 \n",
      " 5   B-      21 non-null     int64 \n",
      " 6   C+      21 non-null     int64 \n",
      " 7   C       21 non-null     int64 \n",
      " 8   C-      21 non-null     int64 \n",
      " 9   D+      21 non-null     int64 \n",
      " 10  D       21 non-null     int64 \n",
      " 11  D-      21 non-null     int64 \n",
      " 12  E       21 non-null     int64 \n",
      "dtypes: int64(12), object(1)\n",
      "memory usage: 2.3+ KB\n",
      "None\n",
      "                 A            A-            B+             B            B-  \\\n",
      "count    21.000000     21.000000     21.000000     21.000000     21.000000   \n",
      "mean    366.285714   2038.285714   4067.047619   6222.095238   8427.142857   \n",
      "std     681.671559   2987.416779   5483.405652   8378.130101  11152.139661   \n",
      "min      50.000000    191.000000    446.000000    772.000000   1234.000000   \n",
      "25%      83.000000    563.000000   1159.000000   1627.000000   2108.000000   \n",
      "50%     141.000000    846.000000   1641.000000   2458.000000   3342.000000   \n",
      "75%     196.000000   1960.000000   4394.000000   7012.000000  10096.000000   \n",
      "max    2685.000000  12069.000000  21927.000000  33460.000000  44581.000000   \n",
      "\n",
      "                 C+             C            C-            D+              D  \\\n",
      "count     21.000000     21.000000     21.000000     21.000000      21.000000   \n",
      "mean   10814.380952  13588.190476  16503.904762  19132.761905   22094.190476   \n",
      "std    13835.542810  17009.456439  20674.791950  24545.371739   30498.088459   \n",
      "min     1873.000000   2554.000000   3193.000000   3418.000000    3291.000000   \n",
      "25%     2722.000000   3314.000000   3824.000000   4043.000000    4150.000000   \n",
      "50%     4442.000000   5538.000000   6492.000000   6937.000000    6804.000000   \n",
      "75%    14969.000000  21832.000000  30047.000000  38976.000000   39113.000000   \n",
      "max    54770.000000  64913.000000  74115.000000  80951.000000  112135.000000   \n",
      "\n",
      "                  D-             E  \n",
      "count      21.000000     21.000000  \n",
      "mean    22104.857143   4758.285714  \n",
      "std     36993.180127   8006.831415  \n",
      "min      2635.000000    779.000000  \n",
      "25%      3593.000000   1304.000000  \n",
      "50%      5544.000000   1569.000000  \n",
      "75%     23127.000000   2755.000000  \n",
      "max    149929.000000  33399.000000  \n"
     ]
    }
   ],
   "source": [
    "print(ress.info())\n",
    "print(ress.describe())"
   ]
  },
  {
   "cell_type": "code",
   "execution_count": 4,
   "id": "e9d9d3ab",
   "metadata": {},
   "outputs": [
    {
     "name": "stdout",
     "output_type": "stream",
     "text": [
      "          Gender     A     A-     B+      B     B-     C+      C     C-  \\\n",
      "8      ALL(2006)   217    880   1641   2399   3342   4442   5538   6492   \n",
      "11     ALL(2007)   160    754   1632   2605   3607   4971   6179   7048   \n",
      "14     ALL(2008)   168    972   2009   2877   3886   5101   6409   7442   \n",
      "17     ALL(2009)   196    846   1989   3098   4355   5699   7040   8243   \n",
      "20     ALL(2010)   279   1236   2531   3677   4969   6361   7805   8925   \n",
      "5      ALL(2015)  2685  12069  21927  33460  44581  54770  64913  74115   \n",
      "2      ALL(2016)   141   4645  10975  17216  23745  32207  44792  61026   \n",
      "7   FEMALE(2006)    69    242    446    772   1234   1873   2554   3193   \n",
      "10  FEMALE(2007)    50    191    473    844   1339   2100   2865   3439   \n",
      "13  FEMALE(2008)    66    274    596    920   1417   2129   2946   3618   \n",
      "16  FEMALE(2009)    58    218    553    974   1572   2388   3216   3996   \n",
      "19  FEMALE(2010)    97    344    744   1219   1875   2722   3637   4389   \n",
      "4   FEMALE(2015)   661   4117   8410  13634  19269  25214  31476  36633   \n",
      "0   FEMALE(2016)    58   2685   6581  10204  13649  17238  22960  30979   \n",
      "6     MALE(2006)   148    638   1195   1627   2108   2569   2984   3299   \n",
      "9     MALE(2007)   110    563   1159   1761   2268   2871   3314   3609   \n",
      "12    MALE(2008)   102    698   1413   1957   2469   2972   3463   3824   \n",
      "15    MALE(2009)   138    628   1436   2124   2783   3311   3824   4247   \n",
      "18    MALE(2010)   182    892   1787   2458   3094   3639   4168   4536   \n",
      "3     MALE(2015)  2024   7952  13517  19826  25312  29556  33437  37482   \n",
      "1     MALE(2016)    83   1960   4394   7012  10096  14969  21832  30047   \n",
      "\n",
      "       D+       D      D-      E  \n",
      "8    6937    6804    5544   1731  \n",
      "11   7538    7223    5686   1569  \n",
      "14   8024    8092    6993   2755  \n",
      "17   8849    8850    7503   2583  \n",
      "20   9438    9330    7788   2610  \n",
      "5   79157   79555   48658   5350  \n",
      "2   80951  112135  149929  33399  \n",
      "7    3519    3513    2909    897  \n",
      "10   3817    3730    2924    790  \n",
      "13   4043    4150    3593   1376  \n",
      "16   4447    4514    3897   1326  \n",
      "19   4734    4769    4012   1304  \n",
      "4   38976   39113   23127   2223  \n",
      "0   41632   57487   77718  18007  \n",
      "6    3418    3291    2635    834  \n",
      "9    3721    3493    2762    779  \n",
      "12   3981    3942    3400   1379  \n",
      "15   4402    4336    3606   1257  \n",
      "18   4704    4561    3776   1306  \n",
      "3   40181   40442   25531   3127  \n",
      "1   39319   54648   72211  15322  \n",
      "         Gender     A    A-     B+      B     B-     C+      C     C-     D+  \\\n",
      "0  FEMALE(2016)    58  2685   6581  10204  13649  17238  22960  30979  41632   \n",
      "1    MALE(2016)    83  1960   4394   7012  10096  14969  21832  30047  39319   \n",
      "2     ALL(2016)   141  4645  10975  17216  23745  32207  44792  61026  80951   \n",
      "3    MALE(2015)  2024  7952  13517  19826  25312  29556  33437  37482  40181   \n",
      "\n",
      "        D      D-      E  \n",
      "0   57487   77718  18007  \n",
      "1   54648   72211  15322  \n",
      "2  112135  149929  33399  \n",
      "3   40442   25531   3127  \n"
     ]
    }
   ],
   "source": [
    "print(ress.sort_values(\"Gender\"))\n",
    "print(ress.iloc[0:4])"
   ]
  },
  {
   "cell_type": "code",
   "execution_count": 5,
   "id": "f9058263",
   "metadata": {},
   "outputs": [],
   "source": [
    "ress[[\"Gender\", \"Year\"]] = ress[\"Gender\"].str.split(\"(\", expand=True)\n",
    "ress[[\"Year\", \"Noo\"]] = ress[\"Year\"].str.split(\")\", expand=True)\n",
    "\n",
    "ress = ress.drop(columns=[\"Noo\"])\n",
    "\n",
    "cols_pos = list(ress.columns)\n",
    "ress = ress[[cols_pos[0]] + [cols_pos[-1]] + cols_pos[1:15]]\n",
    "\n",
    "ress = ress.loc[:, ~ress.columns.duplicated()]\n",
    "\n",
    "ress[\"Total\"] = ress.iloc[:, 2:].sum(axis=1)\n",
    "\n",
    "ress = ress.sort_values([\"Year\", \"Gender\"], ascending=[1, 0])"
   ]
  },
  {
   "cell_type": "code",
   "execution_count": 6,
   "id": "0bfcbd78",
   "metadata": {},
   "outputs": [
    {
     "name": "stdout",
     "output_type": "stream",
     "text": [
      "    Gender  Year     A     A-     B+      B     B-     C+      C     C-  \\\n",
      "6     MALE  2006   148    638   1195   1627   2108   2569   2984   3299   \n",
      "7   FEMALE  2006    69    242    446    772   1234   1873   2554   3193   \n",
      "8      ALL  2006   217    880   1641   2399   3342   4442   5538   6492   \n",
      "9     MALE  2007   110    563   1159   1761   2268   2871   3314   3609   \n",
      "10  FEMALE  2007    50    191    473    844   1339   2100   2865   3439   \n",
      "11     ALL  2007   160    754   1632   2605   3607   4971   6179   7048   \n",
      "12    MALE  2008   102    698   1413   1957   2469   2972   3463   3824   \n",
      "13  FEMALE  2008    66    274    596    920   1417   2129   2946   3618   \n",
      "14     ALL  2008   168    972   2009   2877   3886   5101   6409   7442   \n",
      "15    MALE  2009   138    628   1436   2124   2783   3311   3824   4247   \n",
      "16  FEMALE  2009    58    218    553    974   1572   2388   3216   3996   \n",
      "17     ALL  2009   196    846   1989   3098   4355   5699   7040   8243   \n",
      "18    MALE  2010   182    892   1787   2458   3094   3639   4168   4536   \n",
      "19  FEMALE  2010    97    344    744   1219   1875   2722   3637   4389   \n",
      "20     ALL  2010   279   1236   2531   3677   4969   6361   7805   8925   \n",
      "3     MALE  2015  2024   7952  13517  19826  25312  29556  33437  37482   \n",
      "4   FEMALE  2015   661   4117   8410  13634  19269  25214  31476  36633   \n",
      "5      ALL  2015  2685  12069  21927  33460  44581  54770  64913  74115   \n",
      "1     MALE  2016    83   1960   4394   7012  10096  14969  21832  30047   \n",
      "0   FEMALE  2016    58   2685   6581  10204  13649  17238  22960  30979   \n",
      "2      ALL  2016   141   4645  10975  17216  23745  32207  44792  61026   \n",
      "\n",
      "       D+       D      D-      E   Total  \n",
      "6    3418    3291    2635    834   24746  \n",
      "7    3519    3513    2909    897   21221  \n",
      "8    6937    6804    5544   1731   45967  \n",
      "9    3721    3493    2762    779   26410  \n",
      "10   3817    3730    2924    790   22562  \n",
      "11   7538    7223    5686   1569   48972  \n",
      "12   3981    3942    3400   1379   29600  \n",
      "13   4043    4150    3593   1376   25128  \n",
      "14   8024    8092    6993   2755   54728  \n",
      "15   4402    4336    3606   1257   32092  \n",
      "16   4447    4514    3897   1326   27159  \n",
      "17   8849    8850    7503   2583   59251  \n",
      "18   4704    4561    3776   1306   35103  \n",
      "19   4734    4769    4012   1304   29846  \n",
      "20   9438    9330    7788   2610   64949  \n",
      "3   40181   40442   25531   3127  278387  \n",
      "4   38976   39113   23127   2223  242853  \n",
      "5   79157   79555   48658   5350  521240  \n",
      "1   39319   54648   72211  15322  271893  \n",
      "0   41632   57487   77718  18007  299198  \n",
      "2   80951  112135  149929  33399  571161  \n"
     ]
    }
   ],
   "source": [
    "print(ress)"
   ]
  },
  {
   "cell_type": "code",
   "execution_count": 7,
   "id": "d30aa3f3",
   "metadata": {},
   "outputs": [
    {
     "name": "stdout",
     "output_type": "stream",
     "text": [
      "    Unnamed: 0  Gender  Year     A     A-     B+      B     B-     C+\n",
      "0            6    MALE  2006   148    638   1195   1627   2108   2569\n",
      "1            7  FEMALE  2006    69    242    446    772   1234   1873\n",
      "2            8     ALL  2006   217    880   1641   2399   3342   4442\n",
      "3            9    MALE  2007   110    563   1159   1761   2268   2871\n",
      "4           10  FEMALE  2007    50    191    473    844   1339   2100\n",
      "5           11     ALL  2007   160    754   1632   2605   3607   4971\n",
      "6           12    MALE  2008   102    698   1413   1957   2469   2972\n",
      "7           13  FEMALE  2008    66    274    596    920   1417   2129\n",
      "8           14     ALL  2008   168    972   2009   2877   3886   5101\n",
      "9           15    MALE  2009   138    628   1436   2124   2783   3311\n",
      "10          16  FEMALE  2009    58    218    553    974   1572   2388\n",
      "11          17     ALL  2009   196    846   1989   3098   4355   5699\n",
      "12          18    MALE  2010   182    892   1787   2458   3094   3639\n",
      "13          19  FEMALE  2010    97    344    744   1219   1875   2722\n",
      "14          20     ALL  2010   279   1236   2531   3677   4969   6361\n",
      "15           3    MALE  2015  2024   7952  13517  19826  25312  29556\n",
      "16           4  FEMALE  2015   661   4117   8410  13634  19269  25214\n",
      "17           5     ALL  2015  2685  12069  21927  33460  44581  54770\n",
      "18           1    MALE  2016    83   1960   4394   7012  10096  14969\n",
      "19           0  FEMALE  2016    58   2685   6581  10204  13649  17238\n",
      "20           2     ALL  2016   141   4645  10975  17216  23745  32207\n"
     ]
    }
   ],
   "source": [
    "print(quals)"
   ]
  },
  {
   "cell_type": "code",
   "execution_count": 8,
   "id": "fcdace41",
   "metadata": {},
   "outputs": [],
   "source": [
    "quals.drop(quals.columns[quals.columns.str.contains(\"unnamed\", case=False)], axis=1, inplace=True)"
   ]
  },
  {
   "cell_type": "code",
   "execution_count": 9,
   "id": "b5d0b9bf",
   "metadata": {},
   "outputs": [
    {
     "name": "stdout",
     "output_type": "stream",
     "text": [
      "    Gender  Year     A     A-     B+      B     B-     C+\n",
      "0     MALE  2006   148    638   1195   1627   2108   2569\n",
      "1   FEMALE  2006    69    242    446    772   1234   1873\n",
      "2      ALL  2006   217    880   1641   2399   3342   4442\n",
      "3     MALE  2007   110    563   1159   1761   2268   2871\n",
      "4   FEMALE  2007    50    191    473    844   1339   2100\n",
      "5      ALL  2007   160    754   1632   2605   3607   4971\n",
      "6     MALE  2008   102    698   1413   1957   2469   2972\n",
      "7   FEMALE  2008    66    274    596    920   1417   2129\n",
      "8      ALL  2008   168    972   2009   2877   3886   5101\n",
      "9     MALE  2009   138    628   1436   2124   2783   3311\n",
      "10  FEMALE  2009    58    218    553    974   1572   2388\n",
      "11     ALL  2009   196    846   1989   3098   4355   5699\n",
      "12    MALE  2010   182    892   1787   2458   3094   3639\n",
      "13  FEMALE  2010    97    344    744   1219   1875   2722\n",
      "14     ALL  2010   279   1236   2531   3677   4969   6361\n",
      "15    MALE  2015  2024   7952  13517  19826  25312  29556\n",
      "16  FEMALE  2015   661   4117   8410  13634  19269  25214\n",
      "17     ALL  2015  2685  12069  21927  33460  44581  54770\n",
      "18    MALE  2016    83   1960   4394   7012  10096  14969\n",
      "19  FEMALE  2016    58   2685   6581  10204  13649  17238\n",
      "20     ALL  2016   141   4645  10975  17216  23745  32207\n"
     ]
    }
   ],
   "source": [
    "print(quals)"
   ]
  },
  {
   "cell_type": "code",
   "execution_count": 10,
   "id": "c29fadc9",
   "metadata": {},
   "outputs": [
    {
     "name": "stdout",
     "output_type": "stream",
     "text": [
      "   Unnamed: 0 Gender  Year     A     A-     B+      B     B-     C+      C  \\\n",
      "0           8    ALL  2006   217    880   1641   2399   3342   4442   5538   \n",
      "1          11    ALL  2007   160    754   1632   2605   3607   4971   6179   \n",
      "2          14    ALL  2008   168    972   2009   2877   3886   5101   6409   \n",
      "3          17    ALL  2009   196    846   1989   3098   4355   5699   7040   \n",
      "4          20    ALL  2010   279   1236   2531   3677   4969   6361   7805   \n",
      "5           5    ALL  2015  2685  12069  21927  33460  44581  54770  64913   \n",
      "6           2    ALL  2016   141   4645  10975  17216  23745  32207  44792   \n",
      "\n",
      "      C-     D+       D      D-      E   Total  \n",
      "0   6492   6937    6804    5544   1731   45967  \n",
      "1   7048   7538    7223    5686   1569   48972  \n",
      "2   7442   8024    8092    6993   2755   54728  \n",
      "3   8243   8849    8850    7503   2583   59251  \n",
      "4   8925   9438    9330    7788   2610   64949  \n",
      "5  74115  79157   79555   48658   5350  521240  \n",
      "6  61026  80951  112135  149929  33399  571161  \n"
     ]
    }
   ],
   "source": [
    "print(alls)"
   ]
  },
  {
   "cell_type": "code",
   "execution_count": 11,
   "id": "7670520a",
   "metadata": {},
   "outputs": [
    {
     "name": "stdout",
     "output_type": "stream",
     "text": [
      "  Gender  Year     A     A-     B+      B     B-     C+      C     C-     D+  \\\n",
      "0    ALL  2006   217    880   1641   2399   3342   4442   5538   6492   6937   \n",
      "1    ALL  2007   160    754   1632   2605   3607   4971   6179   7048   7538   \n",
      "2    ALL  2008   168    972   2009   2877   3886   5101   6409   7442   8024   \n",
      "3    ALL  2009   196    846   1989   3098   4355   5699   7040   8243   8849   \n",
      "4    ALL  2010   279   1236   2531   3677   4969   6361   7805   8925   9438   \n",
      "5    ALL  2015  2685  12069  21927  33460  44581  54770  64913  74115  79157   \n",
      "6    ALL  2016   141   4645  10975  17216  23745  32207  44792  61026  80951   \n",
      "\n",
      "        D      D-      E   Total  \n",
      "0    6804    5544   1731   45967  \n",
      "1    7223    5686   1569   48972  \n",
      "2    8092    6993   2755   54728  \n",
      "3    8850    7503   2583   59251  \n",
      "4    9330    7788   2610   64949  \n",
      "5   79555   48658   5350  521240  \n",
      "6  112135  149929  33399  571161  \n"
     ]
    }
   ],
   "source": [
    "alls.drop(alls.columns[alls.columns.str.contains(\"unnamed\", case=False)], axis=1, inplace=True)\n",
    "print(alls)"
   ]
  },
  {
   "cell_type": "code",
   "execution_count": 27,
   "id": "cdf55dba",
   "metadata": {},
   "outputs": [],
   "source": [
    "### NB: An error is on the bar chart below\n",
    "# Legend ovelaps values\n",
    "# Legend contains parameters for Quality"
   ]
  },
  {
   "cell_type": "code",
   "execution_count": 25,
   "id": "c7d48e33",
   "metadata": {},
   "outputs": [
    {
     "data": {
      "image/png": "[encoded data removed]",
      "text/plain": [
       "<Figure size 864x288 with 1 Axes>"
      ]
     },
     "metadata": {
      "needs_background": "light"
     },
     "output_type": "display_data"
    }
   ],
   "source": [
    "\n",
    "alls_bar = alls.plot.bar(figsize = (12,4))\n",
    "plt.xlabel(\"Year\")\n",
    "plt.ylabel(\"No. of Candidates\")\n",
    "plt.title(\"Grade Distribution of Candidates\")\n",
    "plt.show()\n",
    "\n",
    "# plt.plot.bar()\n",
    "# print(alls_bar)\n"
   ]
  },
  {
   "cell_type": "code",
   "execution_count": 13,
   "id": "7eac7076",
   "metadata": {},
   "outputs": [
    {
     "name": "stdout",
     "output_type": "stream",
     "text": [
      "   Gender  Year    A    A-    B+      B     B-     C+      C     C-     D+  \\\n",
      "0  FEMALE  2006   69   242   446    772   1234   1873   2554   3193   3519   \n",
      "1  FEMALE  2007   50   191   473    844   1339   2100   2865   3439   3817   \n",
      "2  FEMALE  2008   66   274   596    920   1417   2129   2946   3618   4043   \n",
      "3  FEMALE  2009   58   218   553    974   1572   2388   3216   3996   4447   \n",
      "4  FEMALE  2010   97   344   744   1219   1875   2722   3637   4389   4734   \n",
      "5  FEMALE  2015  661  4117  8410  13634  19269  25214  31476  36633  38976   \n",
      "6  FEMALE  2016   58  2685  6581  10204  13649  17238  22960  30979  41632   \n",
      "\n",
      "       D     D-      E   Total  \n",
      "0   3513   2909    897   21221  \n",
      "1   3730   2924    790   22562  \n",
      "2   4150   3593   1376   25128  \n",
      "3   4514   3897   1326   27159  \n",
      "4   4769   4012   1304   29846  \n",
      "5  39113  23127   2223  242853  \n",
      "6  57487  77718  18007  299198  \n"
     ]
    }
   ],
   "source": [
    "fems.drop(fems.columns[fems.columns.str.contains(\"unnamed\", case=False)], axis=1, inplace=True)\n",
    "print(fems)"
   ]
  },
  {
   "cell_type": "code",
   "execution_count": 22,
   "id": "72d23bfe",
   "metadata": {},
   "outputs": [
    {
     "name": "stdout",
     "output_type": "stream",
     "text": [
      "     Gender     A     A-     B+      B     B-     C+      C     C-     D+  \\\n",
      "Year                                                                        \n",
      "2006    ALL   217    880   1641   2399   3342   4442   5538   6492   6937   \n",
      "2007    ALL   160    754   1632   2605   3607   4971   6179   7048   7538   \n",
      "2008    ALL   168    972   2009   2877   3886   5101   6409   7442   8024   \n",
      "2009    ALL   196    846   1989   3098   4355   5699   7040   8243   8849   \n",
      "2010    ALL   279   1236   2531   3677   4969   6361   7805   8925   9438   \n",
      "2015    ALL  2685  12069  21927  33460  44581  54770  64913  74115  79157   \n",
      "2016    ALL   141   4645  10975  17216  23745  32207  44792  61026  80951   \n",
      "\n",
      "           D      D-      E  Quality_Sum  NQuality_Sum  Quality_Difference  \n",
      "Year                                                                        \n",
      "2006    6804    5544   1731        12921         33046               20125  \n",
      "2007    7223    5686   1569        13729         35243               21514  \n",
      "2008    8092    6993   2755        15013         39715               24702  \n",
      "2009    8850    7503   2583        16183         43068               26885  \n",
      "2010    9330    7788   2610        19053         45896               26843  \n",
      "2015   79555   48658   5350       169492        351748              182256  \n",
      "2016  112135  149929  33399        88929        482232              393303  \n"
     ]
    }
   ],
   "source": [
    "alls.set_index(\"Year\", drop=True, inplace=True)\n",
    "alls = alls.drop(columns=\"Total\")\n",
    "alls = alls.drop(columns=[\"0\"])\n",
    "print(alls)\n"
   ]
  },
  {
   "cell_type": "code",
   "execution_count": 14,
   "id": "857d474f",
   "metadata": {},
   "outputs": [],
   "source": [
    "# How do quality grades compare to non-quality grades?"
   ]
  },
  {
   "cell_type": "code",
   "execution_count": 15,
   "id": "eb197ec6",
   "metadata": {},
   "outputs": [
    {
     "name": "stdout",
     "output_type": "stream",
     "text": [
      "  Gender  Year     A     A-     B+      B     B-     C+      C     C-     D+  \\\n",
      "0    ALL  2006   217    880   1641   2399   3342   4442   5538   6492   6937   \n",
      "1    ALL  2007   160    754   1632   2605   3607   4971   6179   7048   7538   \n",
      "2    ALL  2008   168    972   2009   2877   3886   5101   6409   7442   8024   \n",
      "3    ALL  2009   196    846   1989   3098   4355   5699   7040   8243   8849   \n",
      "4    ALL  2010   279   1236   2531   3677   4969   6361   7805   8925   9438   \n",
      "5    ALL  2015  2685  12069  21927  33460  44581  54770  64913  74115  79157   \n",
      "6    ALL  2016   141   4645  10975  17216  23745  32207  44792  61026  80951   \n",
      "\n",
      "        D      D-      E   Total  Quality_Sum  NQuality_Sum  \\\n",
      "0    6804    5544   1731   45967        12921         33046   \n",
      "1    7223    5686   1569   48972        13729         35243   \n",
      "2    8092    6993   2755   54728        15013         39715   \n",
      "3    8850    7503   2583   59251        16183         43068   \n",
      "4    9330    7788   2610   64949        19053         45896   \n",
      "5   79555   48658   5350  521240       169492        351748   \n",
      "6  112135  149929  33399  571161        88929        482232   \n",
      "\n",
      "   Quality_Difference  \n",
      "0               20125  \n",
      "1               21514  \n",
      "2               24702  \n",
      "3               26885  \n",
      "4               26843  \n",
      "5              182256  \n",
      "6              393303  \n"
     ]
    }
   ],
   "source": [
    "alls[\"Quality_Sum\"] = alls[\"A\"] + alls[\"A-\"] + alls[\"B+\"] + alls[\"B\"] + alls[\"B-\"] + alls[\"C+\"]\n",
    "\n",
    "alls[\"NQuality_Sum\"] = alls[\"C\"] + alls[\"C-\"] + alls[\"D+\"] + alls[\"D\"] + alls[\"D-\"] + alls[\"E\"]\n",
    "\n",
    "alls[\"Quality_Difference\"] = alls[\"NQuality_Sum\"] - alls[\"Quality_Sum\"]\n",
    "print(alls)"
   ]
  },
  {
   "cell_type": "code",
   "execution_count": null,
   "id": "2db3b457",
   "metadata": {},
   "outputs": [],
   "source": []
  }
 ],
 "metadata": {
  "kernelspec": {
   "display_name": "Python 3 (ipykernel)",
   "language": "python",
   "name": "python3"
  },
  "language_info": {
   "codemirror_mode": {
    "name": "ipython",
    "version": 3
   },
   "file_extension": ".py",
   "mimetype": "text/x-python",
   "name": "python",
   "nbconvert_exporter": "python",
   "pygments_lexer": "ipython3",
   "version": "3.9.7"
  }
 },
 "nbformat": 4,
 "nbformat_minor": 5
}
